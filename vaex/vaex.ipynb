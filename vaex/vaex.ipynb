{
 "cells": [
  {
   "cell_type": "code",
   "execution_count": 1,
   "metadata": {},
   "outputs": [],
   "source": [
    "import pandas as pd\n",
    "import time\n",
    "import vaex as vx"
   ]
  },
  {
   "cell_type": "markdown",
   "metadata": {},
   "source": [
    "# Reading the data"
   ]
  },
  {
   "cell_type": "code",
   "execution_count": 2,
   "metadata": {},
   "outputs": [
    {
     "data": {
      "text/plain": [
       "9.752885103225708"
      ]
     },
     "execution_count": 2,
     "metadata": {},
     "output_type": "execute_result"
    }
   ],
   "source": [
    "starttime = time.time()\n",
    "data = pd.read_csv('taxi data.csv')\n",
    "endtime = time.time()\n",
    "endtime-starttime"
   ]
  },
  {
   "cell_type": "code",
   "execution_count": 3,
   "metadata": {},
   "outputs": [
    {
     "name": "stdout",
     "output_type": "stream",
     "text": [
      "Wall time: 9.35 s\n"
     ]
    }
   ],
   "source": [
    "%%time\n",
    "data2 = vx.open(\"taxi data.csv\")"
   ]
  },
  {
   "cell_type": "code",
   "execution_count": null,
   "metadata": {},
   "outputs": [],
   "source": [
    "data2"
   ]
  },
  {
   "cell_type": "markdown",
   "metadata": {},
   "source": [
    "# creating HDF5 file"
   ]
  },
  {
   "cell_type": "code",
   "execution_count": 4,
   "metadata": {},
   "outputs": [],
   "source": [
    "vaex_df = vx.from_csv('taxi data.csv', convert=True, chunk_size=5_00_000)"
   ]
  },
  {
   "cell_type": "code",
   "execution_count": 5,
   "metadata": {},
   "outputs": [
    {
     "data": {
      "text/plain": [
       "vaex.hdf5.dataset.Hdf5MemoryMapped"
      ]
     },
     "execution_count": 5,
     "metadata": {},
     "output_type": "execute_result"
    }
   ],
   "source": [
    "type(vaex_df)"
   ]
  },
  {
   "cell_type": "code",
   "execution_count": 8,
   "metadata": {},
   "outputs": [
    {
     "name": "stdout",
     "output_type": "stream",
     "text": [
      "Wall time: 10.5 ms\n"
     ]
    }
   ],
   "source": [
    "%%time\n",
    "df = vx.open('taxi data.csv.hdf5')"
   ]
  },
  {
   "cell_type": "code",
   "execution_count": 7,
   "metadata": {},
   "outputs": [
    {
     "data": {
      "text/html": [
       "<table>\n",
       "<thead>\n",
       "<tr><th>#                                    </th><th>id       </th><th>vendor_id  </th><th>pickup_datetime    </th><th>dropoff_datetime   </th><th>passenger_count  </th><th>pickup_longitude  </th><th>pickup_latitude   </th><th>dropoff_longitude  </th><th>dropoff_latitude  </th><th>store_and_fwd_flag  </th><th>trip_duration  </th></tr>\n",
       "</thead>\n",
       "<tbody>\n",
       "<tr><td><i style='opacity: 0.6'>0</i>        </td><td>id2875421</td><td>2          </td><td>2016-03-14 17:24:55</td><td>2016-03-14 17:32:30</td><td>1                </td><td>-73.98215484619139</td><td>40.76793670654297 </td><td>-73.96463012695312 </td><td>40.765602111816406</td><td>N                   </td><td>455            </td></tr>\n",
       "<tr><td><i style='opacity: 0.6'>1</i>        </td><td>id2377394</td><td>1          </td><td>2016-06-12 00:43:35</td><td>2016-06-12 00:54:38</td><td>1                </td><td>-73.98041534423827</td><td>40.738563537597656</td><td>-73.99948120117188 </td><td>40.73115158081055 </td><td>N                   </td><td>663            </td></tr>\n",
       "<tr><td><i style='opacity: 0.6'>2</i>        </td><td>id3858529</td><td>2          </td><td>2016-01-19 11:35:24</td><td>2016-01-19 12:10:48</td><td>1                </td><td>-73.97902679443358</td><td>40.763938903808594</td><td>-74.00533294677734 </td><td>40.71008682250977 </td><td>N                   </td><td>2124           </td></tr>\n",
       "<tr><td><i style='opacity: 0.6'>3</i>        </td><td>id3504673</td><td>2          </td><td>2016-04-06 19:32:31</td><td>2016-04-06 19:39:40</td><td>1                </td><td>-74.01004028320312</td><td>40.719970703125   </td><td>-74.01226806640625 </td><td>40.70671844482422 </td><td>N                   </td><td>429            </td></tr>\n",
       "<tr><td><i style='opacity: 0.6'>4</i>        </td><td>id2181028</td><td>2          </td><td>2016-03-26 13:30:55</td><td>2016-03-26 13:38:10</td><td>1                </td><td>-73.97305297851562</td><td>40.79320907592773 </td><td>-73.9729232788086  </td><td>40.78252029418945 </td><td>N                   </td><td>435            </td></tr>\n",
       "<tr><td>...                                  </td><td>...      </td><td>...        </td><td>...                </td><td>...                </td><td>...              </td><td>...               </td><td>...               </td><td>...                </td><td>...               </td><td>...                 </td><td>...            </td></tr>\n",
       "<tr><td><i style='opacity: 0.6'>1,458,639</i></td><td>id2376096</td><td>2          </td><td>2016-04-08 13:31:04</td><td>2016-04-08 13:44:02</td><td>4                </td><td>-73.9822006225586 </td><td>40.745521545410156</td><td>-73.99491119384766 </td><td>40.74016952514648 </td><td>N                   </td><td>778            </td></tr>\n",
       "<tr><td><i style='opacity: 0.6'>1,458,640</i></td><td>id1049543</td><td>1          </td><td>2016-01-10 07:35:15</td><td>2016-01-10 07:46:10</td><td>1                </td><td>-74.00094604492188</td><td>40.74737930297852 </td><td>-73.97018432617188 </td><td>40.796546936035156</td><td>N                   </td><td>655            </td></tr>\n",
       "<tr><td><i style='opacity: 0.6'>1,458,641</i></td><td>id2304944</td><td>2          </td><td>2016-04-22 06:57:41</td><td>2016-04-22 07:10:25</td><td>1                </td><td>-73.9591293334961 </td><td>40.768798828125   </td><td>-74.00443267822266 </td><td>40.70737075805664 </td><td>N                   </td><td>764            </td></tr>\n",
       "<tr><td><i style='opacity: 0.6'>1,458,642</i></td><td>id2714485</td><td>1          </td><td>2016-01-05 15:56:26</td><td>2016-01-05 16:02:39</td><td>1                </td><td>-73.9820785522461 </td><td>40.749061584472656</td><td>-73.97463226318358 </td><td>40.75710678100585 </td><td>N                   </td><td>373            </td></tr>\n",
       "<tr><td><i style='opacity: 0.6'>1,458,643</i></td><td>id1209952</td><td>1          </td><td>2016-04-05 14:44:25</td><td>2016-04-05 14:47:43</td><td>1                </td><td>-73.9795379638672 </td><td>40.7817497253418  </td><td>-73.97280883789062 </td><td>40.79058456420898 </td><td>N                   </td><td>198            </td></tr>\n",
       "</tbody>\n",
       "</table>"
      ],
      "text/plain": [
       "#          id         vendor_id    pickup_datetime      dropoff_datetime     passenger_count    pickup_longitude    pickup_latitude     dropoff_longitude    dropoff_latitude    store_and_fwd_flag    trip_duration\n",
       "0          id2875421  2            2016-03-14 17:24:55  2016-03-14 17:32:30  1                  -73.98215484619139  40.76793670654297   -73.96463012695312   40.765602111816406  N                     455\n",
       "1          id2377394  1            2016-06-12 00:43:35  2016-06-12 00:54:38  1                  -73.98041534423827  40.738563537597656  -73.99948120117188   40.73115158081055   N                     663\n",
       "2          id3858529  2            2016-01-19 11:35:24  2016-01-19 12:10:48  1                  -73.97902679443358  40.763938903808594  -74.00533294677734   40.71008682250977   N                     2124\n",
       "3          id3504673  2            2016-04-06 19:32:31  2016-04-06 19:39:40  1                  -74.01004028320312  40.719970703125     -74.01226806640625   40.70671844482422   N                     429\n",
       "4          id2181028  2            2016-03-26 13:30:55  2016-03-26 13:38:10  1                  -73.97305297851562  40.79320907592773   -73.9729232788086    40.78252029418945   N                     435\n",
       "...        ...        ...          ...                  ...                  ...                ...                 ...                 ...                  ...                 ...                   ...\n",
       "1,458,639  id2376096  2            2016-04-08 13:31:04  2016-04-08 13:44:02  4                  -73.9822006225586   40.745521545410156  -73.99491119384766   40.74016952514648   N                     778\n",
       "1,458,640  id1049543  1            2016-01-10 07:35:15  2016-01-10 07:46:10  1                  -74.00094604492188  40.74737930297852   -73.97018432617188   40.796546936035156  N                     655\n",
       "1,458,641  id2304944  2            2016-04-22 06:57:41  2016-04-22 07:10:25  1                  -73.9591293334961   40.768798828125     -74.00443267822266   40.70737075805664   N                     764\n",
       "1,458,642  id2714485  1            2016-01-05 15:56:26  2016-01-05 16:02:39  1                  -73.9820785522461   40.749061584472656  -73.97463226318358   40.75710678100585   N                     373\n",
       "1,458,643  id1209952  1            2016-04-05 14:44:25  2016-04-05 14:47:43  1                  -73.9795379638672   40.7817497253418    -73.97280883789062   40.79058456420898   N                     198"
      ]
     },
     "execution_count": 7,
     "metadata": {},
     "output_type": "execute_result"
    }
   ],
   "source": [
    "df"
   ]
  },
  {
   "cell_type": "code",
   "execution_count": 9,
   "metadata": {},
   "outputs": [
    {
     "data": {
      "text/plain": [
       "Expression = passenger_count\n",
       "Length: 1,458,644 dtype: int64 (column)\n",
       "---------------------------------------\n",
       "      0  1\n",
       "      1  1\n",
       "      2  1\n",
       "      3  1\n",
       "      4  1\n",
       "   ...    \n",
       "1458639  4\n",
       "1458640  1\n",
       "1458641  1\n",
       "1458642  1\n",
       "1458643  1"
      ]
     },
     "execution_count": 9,
     "metadata": {},
     "output_type": "execute_result"
    }
   ],
   "source": [
    "df.passenger_count"
   ]
  },
  {
   "cell_type": "markdown",
   "metadata": {},
   "source": [
    "# Virtual Columns"
   ]
  },
  {
   "cell_type": "markdown",
   "metadata": {},
   "source": [
    "### Sometimes it is convenient to store an expression as a column. We call this a virtual column since it does not take up any memory, and is computed on the fly when needed. A virtual column is treated just as a normal column."
   ]
  },
  {
   "cell_type": "code",
   "execution_count": 10,
   "metadata": {},
   "outputs": [],
   "source": [
    "import numpy as np"
   ]
  },
  {
   "cell_type": "code",
   "execution_count": 11,
   "metadata": {},
   "outputs": [],
   "source": [
    "df['tripduration_squared'] = np.square(df.trip_duration)"
   ]
  },
  {
   "cell_type": "code",
   "execution_count": 12,
   "metadata": {},
   "outputs": [
    {
     "data": {
      "text/html": [
       "<table>\n",
       "<thead>\n",
       "<tr><th>#                            </th><th>id       </th><th style=\"text-align: right;\">  vendor_id</th><th>pickup_datetime    </th><th>dropoff_datetime   </th><th style=\"text-align: right;\">  passenger_count</th><th style=\"text-align: right;\">  pickup_longitude</th><th style=\"text-align: right;\">  pickup_latitude</th><th style=\"text-align: right;\">  dropoff_longitude</th><th style=\"text-align: right;\">  dropoff_latitude</th><th>store_and_fwd_flag  </th><th style=\"text-align: right;\">  trip_duration</th><th style=\"text-align: right;\">  tripduration_squared</th></tr>\n",
       "</thead>\n",
       "<tbody>\n",
       "<tr><td><i style='opacity: 0.6'>0</i></td><td>id2875421</td><td style=\"text-align: right;\">          2</td><td>2016-03-14 17:24:55</td><td>2016-03-14 17:32:30</td><td style=\"text-align: right;\">                1</td><td style=\"text-align: right;\">          -73.9822</td><td style=\"text-align: right;\">          40.7679</td><td style=\"text-align: right;\">           -73.9646</td><td style=\"text-align: right;\">           40.7656</td><td>N                   </td><td style=\"text-align: right;\">            455</td><td style=\"text-align: right;\">      207025          </td></tr>\n",
       "<tr><td><i style='opacity: 0.6'>1</i></td><td>id2377394</td><td style=\"text-align: right;\">          1</td><td>2016-06-12 00:43:35</td><td>2016-06-12 00:54:38</td><td style=\"text-align: right;\">                1</td><td style=\"text-align: right;\">          -73.9804</td><td style=\"text-align: right;\">          40.7386</td><td style=\"text-align: right;\">           -73.9995</td><td style=\"text-align: right;\">           40.7312</td><td>N                   </td><td style=\"text-align: right;\">            663</td><td style=\"text-align: right;\">      439569          </td></tr>\n",
       "<tr><td><i style='opacity: 0.6'>2</i></td><td>id3858529</td><td style=\"text-align: right;\">          2</td><td>2016-01-19 11:35:24</td><td>2016-01-19 12:10:48</td><td style=\"text-align: right;\">                1</td><td style=\"text-align: right;\">          -73.979 </td><td style=\"text-align: right;\">          40.7639</td><td style=\"text-align: right;\">           -74.0053</td><td style=\"text-align: right;\">           40.7101</td><td>N                   </td><td style=\"text-align: right;\">           2124</td><td style=\"text-align: right;\">           4.51138e+06</td></tr>\n",
       "<tr><td><i style='opacity: 0.6'>3</i></td><td>id3504673</td><td style=\"text-align: right;\">          2</td><td>2016-04-06 19:32:31</td><td>2016-04-06 19:39:40</td><td style=\"text-align: right;\">                1</td><td style=\"text-align: right;\">          -74.01  </td><td style=\"text-align: right;\">          40.72  </td><td style=\"text-align: right;\">           -74.0123</td><td style=\"text-align: right;\">           40.7067</td><td>N                   </td><td style=\"text-align: right;\">            429</td><td style=\"text-align: right;\">      184041          </td></tr>\n",
       "<tr><td><i style='opacity: 0.6'>4</i></td><td>id2181028</td><td style=\"text-align: right;\">          2</td><td>2016-03-26 13:30:55</td><td>2016-03-26 13:38:10</td><td style=\"text-align: right;\">                1</td><td style=\"text-align: right;\">          -73.9731</td><td style=\"text-align: right;\">          40.7932</td><td style=\"text-align: right;\">           -73.9729</td><td style=\"text-align: right;\">           40.7825</td><td>N                   </td><td style=\"text-align: right;\">            435</td><td style=\"text-align: right;\">      189225          </td></tr>\n",
       "<tr><td><i style='opacity: 0.6'>5</i></td><td>id0801584</td><td style=\"text-align: right;\">          2</td><td>2016-01-30 22:01:40</td><td>2016-01-30 22:09:03</td><td style=\"text-align: right;\">                6</td><td style=\"text-align: right;\">          -73.9829</td><td style=\"text-align: right;\">          40.7422</td><td style=\"text-align: right;\">           -73.9921</td><td style=\"text-align: right;\">           40.7492</td><td>N                   </td><td style=\"text-align: right;\">            443</td><td style=\"text-align: right;\">      196249          </td></tr>\n",
       "<tr><td><i style='opacity: 0.6'>6</i></td><td>id1813257</td><td style=\"text-align: right;\">          1</td><td>2016-06-17 22:34:59</td><td>2016-06-17 22:40:40</td><td style=\"text-align: right;\">                4</td><td style=\"text-align: right;\">          -73.969 </td><td style=\"text-align: right;\">          40.7578</td><td style=\"text-align: right;\">           -73.9574</td><td style=\"text-align: right;\">           40.7659</td><td>N                   </td><td style=\"text-align: right;\">            341</td><td style=\"text-align: right;\">      116281          </td></tr>\n",
       "<tr><td><i style='opacity: 0.6'>7</i></td><td>id1324603</td><td style=\"text-align: right;\">          2</td><td>2016-05-21 07:54:58</td><td>2016-05-21 08:20:49</td><td style=\"text-align: right;\">                1</td><td style=\"text-align: right;\">          -73.9693</td><td style=\"text-align: right;\">          40.7978</td><td style=\"text-align: right;\">           -73.9225</td><td style=\"text-align: right;\">           40.7606</td><td>N                   </td><td style=\"text-align: right;\">           1551</td><td style=\"text-align: right;\">           2.4056e+06 </td></tr>\n",
       "<tr><td><i style='opacity: 0.6'>8</i></td><td>id1301050</td><td style=\"text-align: right;\">          1</td><td>2016-05-27 23:12:23</td><td>2016-05-27 23:16:38</td><td style=\"text-align: right;\">                1</td><td style=\"text-align: right;\">          -73.9995</td><td style=\"text-align: right;\">          40.7384</td><td style=\"text-align: right;\">           -73.9858</td><td style=\"text-align: right;\">           40.7328</td><td>N                   </td><td style=\"text-align: right;\">            255</td><td style=\"text-align: right;\">       65025          </td></tr>\n",
       "<tr><td><i style='opacity: 0.6'>9</i></td><td>id0012891</td><td style=\"text-align: right;\">          2</td><td>2016-03-10 21:45:01</td><td>2016-03-10 22:05:26</td><td style=\"text-align: right;\">                1</td><td style=\"text-align: right;\">          -73.981 </td><td style=\"text-align: right;\">          40.7443</td><td style=\"text-align: right;\">           -73.973 </td><td style=\"text-align: right;\">           40.79  </td><td>N                   </td><td style=\"text-align: right;\">           1225</td><td style=\"text-align: right;\">           1.50062e+06</td></tr>\n",
       "</tbody>\n",
       "</table>"
      ],
      "text/plain": [
       "  #  id           vendor_id  pickup_datetime      dropoff_datetime       passenger_count    pickup_longitude    pickup_latitude    dropoff_longitude    dropoff_latitude  store_and_fwd_flag      trip_duration    tripduration_squared\n",
       "  0  id2875421            2  2016-03-14 17:24:55  2016-03-14 17:32:30                  1            -73.9822            40.7679             -73.9646             40.7656  N                                 455        207025\n",
       "  1  id2377394            1  2016-06-12 00:43:35  2016-06-12 00:54:38                  1            -73.9804            40.7386             -73.9995             40.7312  N                                 663        439569\n",
       "  2  id3858529            2  2016-01-19 11:35:24  2016-01-19 12:10:48                  1            -73.979             40.7639             -74.0053             40.7101  N                                2124             4.51138e+06\n",
       "  3  id3504673            2  2016-04-06 19:32:31  2016-04-06 19:39:40                  1            -74.01              40.72               -74.0123             40.7067  N                                 429        184041\n",
       "  4  id2181028            2  2016-03-26 13:30:55  2016-03-26 13:38:10                  1            -73.9731            40.7932             -73.9729             40.7825  N                                 435        189225\n",
       "  5  id0801584            2  2016-01-30 22:01:40  2016-01-30 22:09:03                  6            -73.9829            40.7422             -73.9921             40.7492  N                                 443        196249\n",
       "  6  id1813257            1  2016-06-17 22:34:59  2016-06-17 22:40:40                  4            -73.969             40.7578             -73.9574             40.7659  N                                 341        116281\n",
       "  7  id1324603            2  2016-05-21 07:54:58  2016-05-21 08:20:49                  1            -73.9693            40.7978             -73.9225             40.7606  N                                1551             2.4056e+06\n",
       "  8  id1301050            1  2016-05-27 23:12:23  2016-05-27 23:16:38                  1            -73.9995            40.7384             -73.9858             40.7328  N                                 255         65025\n",
       "  9  id0012891            2  2016-03-10 21:45:01  2016-03-10 22:05:26                  1            -73.981             40.7443             -73.973              40.79    N                                1225             1.50062e+06"
      ]
     },
     "execution_count": 12,
     "metadata": {},
     "output_type": "execute_result"
    }
   ],
   "source": [
    "df.head()"
   ]
  },
  {
   "cell_type": "code",
   "execution_count": null,
   "metadata": {},
   "outputs": [],
   "source": [
    "### Statistical functions"
   ]
  },
  {
   "cell_type": "code",
   "execution_count": 13,
   "metadata": {},
   "outputs": [
    {
     "data": {
      "text/plain": [
       "array(959.49227296)"
      ]
     },
     "execution_count": 13,
     "metadata": {},
     "output_type": "execute_result"
    }
   ],
   "source": [
    "df.mean(df.trip_duration)"
   ]
  },
  {
   "cell_type": "markdown",
   "metadata": {},
   "source": [
    "### lets print the variance"
   ]
  },
  {
   "cell_type": "code",
   "execution_count": 14,
   "metadata": {},
   "outputs": [
    {
     "data": {
      "text/plain": [
       "array(1.72723129)"
      ]
     },
     "execution_count": 14,
     "metadata": {},
     "output_type": "execute_result"
    }
   ],
   "source": [
    "df.passenger_count.var()"
   ]
  },
  {
   "cell_type": "code",
   "execution_count": 15,
   "metadata": {},
   "outputs": [
    {
     "data": {
      "text/plain": [
       "<bound method DataFrame.correlation of #          id         vendor_id    pickup_datetime      dropoff_datetime     passenger_count    pickup_longitude    pickup_latitude     dropoff_longitude    dropoff_latitude    store_and_fwd_flag    trip_duration    tripduration_squared\n",
       "0          id2875421  2            2016-03-14 17:24:55  2016-03-14 17:32:30  1                  -73.98215484619139  40.76793670654297   -73.96463012695312   40.765602111816406  N                     455              207025\n",
       "1          id2377394  1            2016-06-12 00:43:35  2016-06-12 00:54:38  1                  -73.98041534423827  40.738563537597656  -73.99948120117188   40.73115158081055   N                     663              439569\n",
       "2          id3858529  2            2016-01-19 11:35:24  2016-01-19 12:10:48  1                  -73.97902679443358  40.763938903808594  -74.00533294677734   40.71008682250977   N                     2124             4511376\n",
       "3          id3504673  2            2016-04-06 19:32:31  2016-04-06 19:39:40  1                  -74.01004028320312  40.719970703125     -74.01226806640625   40.70671844482422   N                     429              184041\n",
       "4          id2181028  2            2016-03-26 13:30:55  2016-03-26 13:38:10  1                  -73.97305297851562  40.79320907592773   -73.9729232788086    40.78252029418945   N                     435              189225\n",
       "...        ...        ...          ...                  ...                  ...                ...                 ...                 ...                  ...                 ...                   ...              ...\n",
       "1,458,639  id2376096  2            2016-04-08 13:31:04  2016-04-08 13:44:02  4                  -73.9822006225586   40.745521545410156  -73.99491119384766   40.74016952514648   N                     778              605284\n",
       "1,458,640  id1049543  1            2016-01-10 07:35:15  2016-01-10 07:46:10  1                  -74.00094604492188  40.74737930297852   -73.97018432617188   40.796546936035156  N                     655              429025\n",
       "1,458,641  id2304944  2            2016-04-22 06:57:41  2016-04-22 07:10:25  1                  -73.9591293334961   40.768798828125     -74.00443267822266   40.70737075805664   N                     764              583696\n",
       "1,458,642  id2714485  1            2016-01-05 15:56:26  2016-01-05 16:02:39  1                  -73.9820785522461   40.749061584472656  -73.97463226318358   40.75710678100585   N                     373              139129\n",
       "1,458,643  id1209952  1            2016-04-05 14:44:25  2016-04-05 14:47:43  1                  -73.9795379638672   40.7817497253418    -73.97280883789062   40.79058456420898   N                     198              39204>"
      ]
     },
     "execution_count": 15,
     "metadata": {},
     "output_type": "execute_result"
    }
   ],
   "source": [
    "df.correlation"
   ]
  },
  {
   "cell_type": "markdown",
   "metadata": {},
   "source": [
    "## Lets plot the trip duration"
   ]
  },
  {
   "cell_type": "code",
   "execution_count": 16,
   "metadata": {},
   "outputs": [
    {
     "data": {
      "text/plain": [
       "[<matplotlib.lines.Line2D at 0x1d104642548>]"
      ]
     },
     "execution_count": 16,
     "metadata": {},
     "output_type": "execute_result"
    },
    {
     "data": {
      "image/png": "[encoded data removed]",
      "text/plain": [
       "<Figure size 432x288 with 1 Axes>"
      ]
     },
     "metadata": {
      "needs_background": "light"
     },
     "output_type": "display_data"
    }
   ],
   "source": [
    "df.plot1d(df.trip_duration, limits='99%')"
   ]
  },
  {
   "cell_type": "code",
   "execution_count": null,
   "metadata": {},
   "outputs": [],
   "source": [
    "## saving a filtered dataset"
   ]
  },
  {
   "cell_type": "code",
   "execution_count": 17,
   "metadata": {},
   "outputs": [],
   "source": [
    "filterdata= df['passenger_count'] <5"
   ]
  },
  {
   "cell_type": "code",
   "execution_count": 18,
   "metadata": {},
   "outputs": [],
   "source": [
    "df_filtered = df[filterdata]"
   ]
  },
  {
   "cell_type": "code",
   "execution_count": 19,
   "metadata": {},
   "outputs": [],
   "source": [
    "df_filtered.export_hdf5('passengercountlessthan5.hdf5')"
   ]
  },
  {
   "cell_type": "markdown",
   "metadata": {},
   "source": [
    "### count of records in the dataframe"
   ]
  },
  {
   "cell_type": "code",
   "execution_count": 20,
   "metadata": {},
   "outputs": [
    {
     "data": {
      "text/plain": [
       "1332218"
      ]
     },
     "execution_count": 20,
     "metadata": {},
     "output_type": "execute_result"
    }
   ],
   "source": [
    "df_filtered.__len__()"
   ]
  },
  {
   "cell_type": "code",
   "execution_count": 21,
   "metadata": {},
   "outputs": [
    {
     "data": {
      "text/plain": [
       "1458644"
      ]
     },
     "execution_count": 21,
     "metadata": {},
     "output_type": "execute_result"
    }
   ],
   "source": [
    "df.__len__()"
   ]
  },
  {
   "cell_type": "code",
   "execution_count": null,
   "metadata": {},
   "outputs": [],
   "source": []
  },
  {
   "cell_type": "code",
   "execution_count": null,
   "metadata": {},
   "outputs": [],
   "source": []
  }
 ],
 "metadata": {
  "kernelspec": {
   "display_name": "Python 3",
   "language": "python",
   "name": "python3"
  },
  "language_info": {
   "codemirror_mode": {
    "name": "ipython",
    "version": 3
   },
   "file_extension": ".py",
   "mimetype": "text/x-python",
   "name": "python",
   "nbconvert_exporter": "python",
   "pygments_lexer": "ipython3",
   "version": "3.7.7"
  }
 },
 "nbformat": 4,
 "nbformat_minor": 4
}
